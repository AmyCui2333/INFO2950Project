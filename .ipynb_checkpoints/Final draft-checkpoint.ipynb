{
 "cells": [
  {
   "cell_type": "markdown",
   "metadata": {},
   "source": [
    "## Introduction\n",
    "<p>As mobile phones start playing an increasingly important role in our lives, their functionalities are no longer limited to basic tasks such as making calls or browsing content. In a world where smartphones have become a necessity, more and more companies are developing mobile applications that are either brand new, or coupled with existing products such as websites. Although different applications have different methods of gouging revenue, one common goal is to produce high-quality apps that can transform users into long-term clients through enhancing user experience. The quality of an app can be reflected through its rating. Naturally, a higher rating corresponds to higher user loyalty. This report uses data on google store apps to analyze the factors that influence an app's rating. The research question we're trying to answer is: what are the factors that influence an application's rating? </p> \n",
    " <p>The goal of this analysis is to find out if there is a statistically significant relationship between factors such as installs, size, category, reviews, type etc. and rating. Through this, we are able to dsicover trends and patterns in the application market. The findings can be used to predict ratings of applications, allowing developers to get a better idea of how well their app will be received, and giving user insight into the quality of an app.</p>\n",
    "<p>Summary of results: the analysis shows that an app's rating is correlated with its type(paid or free) and the number of installs. It is not correlated with an app's size, and the relationship between ratings and category remains unclear.Although an app's rating is correlated with reviews, this is largely due to the fact that the number of reviews are determined by installs, therefore we're unable to conclude that there exists a relationship between reviews and rating.</p>"
   ]
  },
  {
   "cell_type": "markdown",
   "metadata": {},
   "source": [
    "## Dataset Description\n",
    "### Motivation\n",
    "<p>This dataset was created for the purpose of analyzing factors that influence an app's ratings and the number of times it is installed.It was cleaned and processed by Amy Cui, with original data from Lavanya Gupta on Kaggle. The collection of this dataset wasn't funded by any third party.<p>\n"
   ]
  },
  {
   "cell_type": "markdown",
   "metadata": {},
   "source": [
    "### Composition    \n",
    "<p>This dataset has several types of instances:App, Category, Rating, Reviews, Size, Intalls, Type, and Price. These types has the following representations:<p>\n",
    "\n",
    "- App: the name of an app\n",
    "- Category: The primary category that the app belongs to\n",
    "- Rating: the average rating of the app (as when scraped)\n",
    "- Reviews: the number of reviews that an app has (as when scraped)\n",
    "- Size:The size of the app (as when scraped)\n",
    "- Installs: the number of times the app has been installed (as when scraped)\n",
    "- Type: whether the app is free or paid (as when scraped)\n",
    "- Price: the price of the app (as when scraped)\n",
    "\n",
    "<p>There are 7729 instances of data in total, and each instance contains the types mentioned above. The raw data file contained missing values because they were unavailable in the app store, but those are not present in the cleaned dataset.<p>\n",
    "<p>The dataset is self-contained and doesn’t link to any external sources. All data in this dataset is publicly available information from app descriptions on google playstore. It doesn't contain any confidential or triggering information, nor is it related to people.<p>"
   ]
  },
  {
   "cell_type": "markdown",
   "metadata": {},
   "source": [
    "### Collection Process\n",
    "<p>The original dataset was downloaded from Kaggle and then cleaned for analysis. The original data associated with each instance is directly observable in Google Play Store and collected using a web scraping script. The way in which the original script was written would influence which apps were chosen for data gathering, and a different sampling method could lead to different collected data. The original data was collected by Lavanya Gupta about 2 years ago. The data was downloaded from Kaggle on 11/18/2020, which means it doesn't accurately reflect up-to-date information in Google Play Store now.<p>"
   ]
  },
  {
   "cell_type": "markdown",
   "metadata": {},
   "source": [
    "### Preprocessing/cleaning/labeling\n",
    "<p>The orginial data was processed to drop all instances that did not contain any information on rating. An instance was also dropped because errors were found in its fields. In addition, the Rating, Reviews, Size, and Installs columns were all transformed into numeric variables for further calculations and analysis. A logarithmic function with base 10 was applied to the Installs column to transform originally large numbers into more analysis-ready data. The code used to clean the data can be found in the appendix. Similarly, a logarithmic function with base e was applied to the Reviews column. The raw data is stored on https://cornell.box.com/s/y6tfrk7qchnn0nu2bo4zqz3g0fvx9ha1 <p>"
   ]
  },
  {
   "cell_type": "markdown",
   "metadata": {},
   "source": [
    "### Uses\n",
    "<p>This dataset has not been used for any tasks. It is accessible through the repository https://github.com/AmyCui2333/info2950. This dataset can be used to study android app features and how they affect popularity of an app. It may not be used for commercial purposes. The raw data was collected about two years ago so it may not be accurate for analysis on current apps.<p>"
   ]
  },
  {
   "cell_type": "markdown",
   "metadata": {},
   "source": [
    "### Preregistration Statement\n",
    "1. Use a linear regression to determine if apps with more installs are associated with higher ratings.\n",
    "2. Use a linear regression to determine if paid app are associated with higher ratings compared to free apps."
   ]
  },
  {
   "cell_type": "code",
   "execution_count": 1,
   "metadata": {},
   "outputs": [
    {
     "name": "stdout",
     "output_type": "stream",
     "text": [
      "                                                    App             Category  \\\n",
      "0        Photo Editor & Candy Camera & Grid & ScrapBook       ART_AND_DESIGN   \n",
      "1                                   Coloring book moana       ART_AND_DESIGN   \n",
      "2     U Launcher Lite – FREE Live Cool Themes, Hide ...       ART_AND_DESIGN   \n",
      "3                                 Sketch - Draw & Paint       ART_AND_DESIGN   \n",
      "4                 Pixel Draw - Number Art Coloring Book       ART_AND_DESIGN   \n",
      "5                            Paper flowers instructions       ART_AND_DESIGN   \n",
      "6               Smoke Effect Photo Maker - Smoke Editor       ART_AND_DESIGN   \n",
      "7                                      Infinite Painter       ART_AND_DESIGN   \n",
      "8                                  Garden Coloring Book       ART_AND_DESIGN   \n",
      "9                         Kids Paint Free - Drawing Fun       ART_AND_DESIGN   \n",
      "10                              Text on Photo - Fonteee       ART_AND_DESIGN   \n",
      "11              Name Art Photo Editor - Focus n Filters       ART_AND_DESIGN   \n",
      "12                       Tattoo Name On My Photo Editor       ART_AND_DESIGN   \n",
      "13                                Mandala Coloring Book       ART_AND_DESIGN   \n",
      "14      3D Color Pixel by Number - Sandbox Art Coloring       ART_AND_DESIGN   \n",
      "15                      Learn To Draw Kawaii Characters       ART_AND_DESIGN   \n",
      "16         Photo Designer - Write your name with shapes       ART_AND_DESIGN   \n",
      "17                             350 Diy Room Decor Ideas       ART_AND_DESIGN   \n",
      "18                        FlipaClip - Cartoon animation       ART_AND_DESIGN   \n",
      "19                                         ibis Paint X       ART_AND_DESIGN   \n",
      "20                          Logo Maker - Small Business       ART_AND_DESIGN   \n",
      "21            Boys Photo Editor - Six Pack & Men's Suit       ART_AND_DESIGN   \n",
      "22              Superheroes Wallpapers | 4K Backgrounds       ART_AND_DESIGN   \n",
      "23                          HD Mickey Minnie Wallpapers       ART_AND_DESIGN   \n",
      "24                           Harley Quinn wallpapers HD       ART_AND_DESIGN   \n",
      "25                        Colorfit - Drawing & Coloring       ART_AND_DESIGN   \n",
      "26                                Animated Photo Editor       ART_AND_DESIGN   \n",
      "27                                Pencil Sketch Drawing       ART_AND_DESIGN   \n",
      "28                      Easy Realistic Drawing Tutorial       ART_AND_DESIGN   \n",
      "29                       Pink Silver Bow Keyboard Theme       ART_AND_DESIGN   \n",
      "...                                                 ...                  ...   \n",
      "7699                             Soccer Clubs Logo Quiz                 GAME   \n",
      "7700                                          Sid Story                 GAME   \n",
      "7701                           Reindeer VPN - Proxy VPN                TOOLS   \n",
      "7702   Inf VPN - Global Proxy & Unlimited Free WIFI VPN                TOOLS   \n",
      "7703                              Fuel Rewards® program            LIFESTYLE   \n",
      "7704                                     Fr Daoud Lamei               SOCIAL   \n",
      "7705                                          FR Roster                TOOLS   \n",
      "7706                                Fr Ignacio Outreach               FAMILY   \n",
      "7707                                FR: My Famous Lover               FAMILY   \n",
      "7708                       Fatal Raid - No.1 Mobile FPS                 GAME   \n",
      "7709                                       Poker Pro.Fr                 GAME   \n",
      "7710                                      Scoreboard FR            LIFESTYLE   \n",
      "7711              Castle Clash: RPG War and Strategy FR               FAMILY   \n",
      "7712                                  Fr Lupupa Sermons             BUSINESS   \n",
      "7713                                      Fr Agnel Pune               FAMILY   \n",
      "7714                               FR: My Secret Pets!                FAMILY   \n",
      "7715                          Golden Dictionary (FR-AR)  BOOKS_AND_REFERENCE   \n",
      "7716                               HTC Sense Input - FR                TOOLS   \n",
      "7717                                          Fanfic-FR  BOOKS_AND_REFERENCE   \n",
      "7718                                    Fr. Daoud Lamei               FAMILY   \n",
      "7719                                 Fr Agnel Ambarnath               FAMILY   \n",
      "7720                            Manga-FR - Anime Vostfr               COMICS   \n",
      "7721                     Bulgarian French Dictionary Fr  BOOKS_AND_REFERENCE   \n",
      "7722                                  News Minecraft.fr   NEWS_AND_MAGAZINES   \n",
      "7723                                           FR Tides              WEATHER   \n",
      "7724                                        Chemin (fr)  BOOKS_AND_REFERENCE   \n",
      "7725                                      FR Calculator               FAMILY   \n",
      "7726                                   Sya9a Maroc - FR               FAMILY   \n",
      "7727                   Fr. Mike Schmitz Audio Teachings               FAMILY   \n",
      "7728      iHoroscope - 2018 Daily Horoscope & Astrology            LIFESTYLE   \n",
      "\n",
      "      Rating    Reviews   Size  Installs  Type  Price  \n",
      "0        4.1   5.068904   19.0   4.00000  Free    0.0  \n",
      "1        3.9   6.874198   14.0   5.69897  Free    0.0  \n",
      "2        4.7  11.379508    8.7   6.69897  Free    0.0  \n",
      "3        4.5  12.281384   25.0   7.69897  Free    0.0  \n",
      "4        4.3   6.874198    2.8   5.00000  Free    0.0  \n",
      "5        4.4   5.117994    5.6   4.69897  Free    0.0  \n",
      "6        3.8   5.181784   19.0   4.69897  Free    0.0  \n",
      "7        4.1  10.513661   29.0   6.00000  Free    0.0  \n",
      "8        4.4   9.531771   33.0   6.00000  Free    0.0  \n",
      "9        4.7   4.795791    3.1   4.00000  Free    0.0  \n",
      "10       4.4   9.538204   28.0   6.00000  Free    0.0  \n",
      "11       4.4   9.081142   12.0   6.00000  Free    0.0  \n",
      "12       4.2  10.710611   20.0   7.00000  Free    0.0  \n",
      "13       4.6   8.372399   21.0   5.00000  Free    0.0  \n",
      "14       4.4   7.325149   37.0   5.00000  Free    0.0  \n",
      "15       3.2   4.007333    2.7   3.69897  Free    0.0  \n",
      "16       4.7   8.197539    5.5   5.69897  Free    0.0  \n",
      "17       4.5   3.295837   17.0   4.00000  Free    0.0  \n",
      "18       4.3  12.176726   39.0   6.69897  Free    0.0  \n",
      "19       4.6  12.321181   31.0   7.00000  Free    0.0  \n",
      "20       4.0   6.109248   14.0   5.00000  Free    0.0  \n",
      "21       4.1   6.483107   12.0   5.00000  Free    0.0  \n",
      "22       4.7   8.948846    4.2   5.69897  Free    0.0  \n",
      "23       4.7   4.770685   23.0   4.69897  Free    0.0  \n",
      "24       4.8   5.257495    6.0   4.00000  Free    0.0  \n",
      "25       4.7   9.916404   25.0   5.69897  Free    0.0  \n",
      "26       4.1   5.313206    6.1   5.00000  Free    0.0  \n",
      "27       3.9   4.912655    4.6   4.00000  Free    0.0  \n",
      "28       4.1   5.407172    4.2   5.00000  Free    0.0  \n",
      "29       4.2   7.021084    9.2   5.00000  Free    0.0  \n",
      "...      ...        ...    ...       ...   ...    ...  \n",
      "7699     4.2   9.983269   16.0   6.00000  Free    0.0  \n",
      "7700     4.4  10.258010   78.0   5.69897  Free    0.0  \n",
      "7701     4.2   8.900958    4.0   5.00000  Free    0.0  \n",
      "7702     4.7  11.025898    7.8   6.00000  Free    0.0  \n",
      "7703     4.6  10.386932   46.0   6.00000  Free    0.0  \n",
      "7704     4.7   7.618742    6.8   5.00000  Free    0.0  \n",
      "7705     4.1   5.159055   12.0   3.69897  Free    0.0  \n",
      "7706     4.9   3.951244   19.0   3.00000  Free    0.0  \n",
      "7707     4.0   5.220356   28.0   4.00000  Free    0.0  \n",
      "7708     4.3  10.941925   81.0   6.00000  Free    0.0  \n",
      "7709     4.2   8.601902   17.0   5.00000  Free    0.0  \n",
      "7710     4.3   1.098612   15.0   2.00000  Free    0.0  \n",
      "7711     4.7  12.837937   24.0   6.00000  Free    0.0  \n",
      "7712     4.8   2.944439   21.0   2.00000  Free    0.0  \n",
      "7713     4.1   4.382027   13.0   3.00000  Free    0.0  \n",
      "7714     4.0   6.665684   31.0   4.69897  Free    0.0  \n",
      "7715     4.2   8.661294    4.9   5.69897  Free    0.0  \n",
      "7716     4.0   6.785588    8.0   5.00000  Free    0.0  \n",
      "7717     3.3   3.951244    3.6   3.69897  Free    0.0  \n",
      "7718     5.0   3.091042    8.6   3.00000  Free    0.0  \n",
      "7719     4.2   4.762174   13.0   3.69897  Free    0.0  \n",
      "7720     3.4   5.673323   13.0   4.00000  Free    0.0  \n",
      "7721     4.6   6.401917    7.4   4.00000  Free    0.0  \n",
      "7722     3.8   6.781058    2.3   5.00000  Free    0.0  \n",
      "7723     3.8   7.085901  582.0   5.00000  Free    0.0  \n",
      "7724     4.8   3.784190  619.0   3.00000  Free    0.0  \n",
      "7725     4.0   1.945910    2.6   2.69897  Free    0.0  \n",
      "7726     4.5   3.637586   53.0   3.69897  Free    0.0  \n",
      "7727     5.0   1.386294    3.6   2.00000  Free    0.0  \n",
      "7728     4.5  12.894978   19.0   7.00000  Free    0.0  \n",
      "\n",
      "[7729 rows x 8 columns]\n"
     ]
    }
   ],
   "source": [
    "import numpy as np\n",
    "import pandas as pd\n",
    "from matplotlib import pyplot as plt\n",
    "import seaborn as sns\n",
    "from sklearn.linear_model import LinearRegression\n",
    "from scipy import stats\n",
    "\n",
    "apps = pd.read_csv(\"googleapps.csv\")\n",
    "print(apps)"
   ]
  },
  {
   "cell_type": "markdown",
   "metadata": {},
   "source": [
    "## Data analysis\n",
    "We first look at the distribution of the response variable Rating."
   ]
  },
  {
   "cell_type": "code",
   "execution_count": 2,
   "metadata": {},
   "outputs": [
    {
     "name": "stdout",
     "output_type": "stream",
     "text": [
      "rating mean: 4.17\n",
      "rating median: 4.3\n"
     ]
    }
   ],
   "source": [
    "mean_rating = apps['Rating'].mean()\n",
    "print(\"rating mean: \"+\"{:.2f}\".format(mean_rating))\n",
    "median_rating = apps['Rating'].median()\n",
    "print(\"rating median: \"+str(median_rating))"
   ]
  },
  {
   "cell_type": "code",
   "execution_count": 3,
   "metadata": {},
   "outputs": [
    {
     "data": {
      "image/png": "[encoded data removed]",
      "text/plain": [
       "<Figure size 432x288 with 1 Axes>"
      ]
     },
     "metadata": {},
     "output_type": "display_data"
    }
   ],
   "source": [
    "ratings = apps.Rating.values\n",
    "rating_bins = apps[\"Rating\"].nunique()\n",
    "n,bins, patches = plt.hist(ratings, rating_bins)\n",
    "plt.xlabel(\"ratings\")\n",
    "plt.ylabel(\"counts\")\n",
    "plt.title('Histogram of App ratings')\n",
    "plt.show()"
   ]
  },
  {
   "cell_type": "markdown",
   "metadata": {},
   "source": [
    "As shown in the plot above, app ratings are skewed to the left, clustering around the median of 4.3.This means that most apps have a rating around 4.3, with declining counts as the rating increases or decreases. This is inline with what we would expect out of app store ratings because most apps, on average, would receive a decent score, but few would receive ratings close to full mark. "
   ]
  },
  {
   "cell_type": "code",
   "execution_count": 4,
   "metadata": {},
   "outputs": [
    {
     "name": "stdout",
     "output_type": "stream",
     "text": [
      "installs mean: 5.06\n",
      "installs median: 5.0\n"
     ]
    }
   ],
   "source": [
    "mean_installs = apps['Installs'].mean()\n",
    "print(\"installs mean: \"+\"{:.2f}\".format(mean_installs))\n",
    "median_installs = apps['Installs'].median()\n",
    "print(\"installs median: \"+str(median_installs))"
   ]
  },
  {
   "cell_type": "code",
   "execution_count": 5,
   "metadata": {},
   "outputs": [
    {
     "data": {
      "image/png": "[encoded data removed]",
      "text/plain": [
       "<Figure size 432x288 with 1 Axes>"
      ]
     },
     "metadata": {},
     "output_type": "display_data"
    }
   ],
   "source": [
    "installs = apps.Installs.values\n",
    "n,bins, patches = plt.hist(installs)\n",
    "plt.xlabel(\"installs\")\n",
    "plt.ylabel(\"counts\")\n",
    "plt.title('Histogram of App installs')\n",
    "plt.show()"
   ]
  },
  {
   "cell_type": "markdown",
   "metadata": {},
   "source": [
    "We can see that the distribution of installs is skewed to the left, which is similar to the distribution of ratings. Most of the values cluster around the median of 5.0. There is a dramatic drop in number of installations after reaching 8.0, which is inline with what we would expect, because only a selected few apps that are used in everyday life can reach $10^8 $ installs. The similar distribution of installs and ratings indicates that the two variables might be correlated, and further analysis will be performed to check if there exists a statistically significant relationship."
   ]
  },
  {
   "cell_type": "code",
   "execution_count": 6,
   "metadata": {},
   "outputs": [
    {
     "name": "stdout",
     "output_type": "stream",
     "text": [
      "regression slope of number of installs to ratings: 0.029\n"
     ]
    },
    {
     "data": {
      "image/png": "[encoded data removed]",
      "text/plain": [
       "<Figure size 360x360 with 1 Axes>"
      ]
     },
     "metadata": {},
     "output_type": "display_data"
    }
   ],
   "source": [
    "ratings = apps[[\"Rating\"]]\n",
    "installs = apps[[\"Installs\"]]\n",
    "sns.lmplot(x=\"Installs\", y=\"Rating\", data=apps)\n",
    "model=LinearRegression()\n",
    "model.fit(installs,ratings)\n",
    "slope = model.coef_[0][0]\n",
    "print(\"regression slope of number of installs to ratings: \"+\"{:.3f}\".format(slope))"
   ]
  },
  {
   "cell_type": "markdown",
   "metadata": {},
   "source": [
    "Here, a scatterplot with regression line is used to visualize the distribution of intalls and ratings. It is clear that as installs increase, the range of ratings decreases, so there are less apps with high installs but low ratings. The regression line indicates that there is a positive correlation between installs and ratings. Using a linear regression model with installs as an input variable and rating as a response variable, we calculate that the regression slope of rating to installs is 0.029. This means that the model predicts when the log of installs increases by 1, rating increases by 0.029 on average. Although the value of the slope is small, that doesn't mean the relationship is insignificant, especially considering the raw values of the variable rating only goes up to 5.0. <br>\n",
    "To determine statisitical significance, we then perform a hypothesis test using the function `stats.linregress`.Let the null hypothesis be that there is no relationship between installs and ratings."
   ]
  },
  {
   "cell_type": "code",
   "execution_count": 7,
   "metadata": {},
   "outputs": [
    {
     "name": "stdout",
     "output_type": "stream",
     "text": [
      "the p-value for the test result is 0.000\n"
     ]
    }
   ],
   "source": [
    "#reshape the columns for using linregress\n",
    "numpy_installs = installs.values\n",
    "numpy_installs= np.reshape(numpy_installs,7729)\n",
    "numpy_ratings = np.reshape(ratings.values, 7729)\n",
    "#find a least-squares regression line and its corresponding values\n",
    "slope, intercept, r_value, p_value, std_err = stats.linregress(numpy_installs,numpy_ratings)\n",
    "print(\"the p-value for the test result is \"+\"{:.3f}\".format(p_value))"
   ]
  },
  {
   "cell_type": "markdown",
   "metadata": {},
   "source": [
    "The p-value indicates the probablity of gaining results that are at least as extreme by chance. Therefore, a p-value of 0.000 means that the probablity of gaining results at least as extreme as the one above with random numbers is 0.00.Because the p-value of 0.000<0.05, we reject the null hypothesis and conclude that there is in fact, a statistically significant relationship between an app's installs and rating: with every increase in 1 in the log of installs, rating increases by 0.029 on average.The two are positively correlated."
   ]
  },
  {
   "cell_type": "markdown",
   "metadata": {},
   "source": [
    "However, this doesn't mean that there is a casual relationship between installs and ratings. Because apps with the most installs are generally produced by larger companies and experienced development teams, their functionalities and design are likely to be better than an average app in the playstore. Both their rating and installation numbers are likely to be a result of robust development and well-planned marketing efforts. How much installations actually contribute to ratings cannot be concluded only through this data, but we can conclude that there is a correlation between the two."
   ]
  },
  {
   "cell_type": "markdown",
   "metadata": {},
   "source": [
    "Next, we examine the categorical variables \"Category\" and \"Type\" by using boxplots to visualize the data."
   ]
  },
  {
   "cell_type": "code",
   "execution_count": 8,
   "metadata": {},
   "outputs": [
    {
     "data": {
      "text/plain": [
       "<matplotlib.axes._subplots.AxesSubplot at 0x28b9453fb70>"
      ]
     },
     "execution_count": 8,
     "metadata": {},
     "output_type": "execute_result"
    },
    {
     "data": {
      "image/png": "[encoded data removed]",
      "text/plain": [
       "<Figure size 864x720 with 1 Axes>"
      ]
     },
     "metadata": {},
     "output_type": "display_data"
    },
    {
     "data": {
      "image/png": "[encoded data removed]",
      "text/plain": [
       "<Figure size 432x288 with 1 Axes>"
      ]
     },
     "metadata": {},
     "output_type": "display_data"
    }
   ],
   "source": [
    "apps.boxplot(column=[\"Rating\"], by = \"Category\",figsize = (12,10))\n",
    "apps.boxplot(column=[\"Rating\"], by = \"Type\")"
   ]
  },
  {
   "cell_type": "markdown",
   "metadata": {},
   "source": [
    "<p>The Category variable has many unique values and the boxplot shows that rating seems to vary randomly from category to category with no significant pattern. Therefore, this variable will not be further examined, and the relationship between category and rating remains unclear.</p>\n",
    "<p>The second boxplot shows that the median, the 25th percentile, and 75th percentile of Paid apps are all higher than that of free apps.This indicates that paid apps may tend to have higher ratings than free apps. In other words, the coefficient of Type to Rating might be postive, We user a linear regression on categorical variables to confirm this hypothesis.</p>    "
   ]
  },
  {
   "cell_type": "code",
   "execution_count": 9,
   "metadata": {},
   "outputs": [
    {
     "name": "stdout",
     "output_type": "stream",
     "text": [
      "                                                 App        Category  Rating  \\\n",
      "0     Photo Editor & Candy Camera & Grid & ScrapBook  ART_AND_DESIGN     4.1   \n",
      "1                                Coloring book moana  ART_AND_DESIGN     3.9   \n",
      "2  U Launcher Lite – FREE Live Cool Themes, Hide ...  ART_AND_DESIGN     4.7   \n",
      "3                              Sketch - Draw & Paint  ART_AND_DESIGN     4.5   \n",
      "4              Pixel Draw - Number Art Coloring Book  ART_AND_DESIGN     4.3   \n",
      "\n",
      "     Reviews  Size  Installs  Type  Price  \n",
      "0   5.068904  19.0   4.00000     0    0.0  \n",
      "1   6.874198  14.0   5.69897     0    0.0  \n",
      "2  11.379508   8.7   6.69897     0    0.0  \n",
      "3  12.281384  25.0   7.69897     0    0.0  \n",
      "4   6.874198   2.8   5.00000     0    0.0  \n"
     ]
    }
   ],
   "source": [
    "type_map = {\"Free\":0,\"Paid\":1}\n",
    "num_types = apps.Type.map(type_map)\n",
    "apps['Type'] = num_types\n",
    "print(apps.head())"
   ]
  },
  {
   "cell_type": "code",
   "execution_count": 10,
   "metadata": {},
   "outputs": [
    {
     "name": "stdout",
     "output_type": "stream",
     "text": [
      "The slope of the binary variable Type is 0.085\n"
     ]
    }
   ],
   "source": [
    "x = apps[['Type']]\n",
    "y = apps[[\"Rating\"]]\n",
    "model=LinearRegression()\n",
    "model.fit(x,y)\n",
    "type_slope = model.coef_[0][0]\n",
    "print(\"The slope of the binary variable Type is \"+\"{:.3f}\".format(type_slope))"
   ]
  },
  {
   "cell_type": "markdown",
   "metadata": {},
   "source": [
    "We see that the slope of linear regression line is 0.085, which means that, on average, the model predicts a paid app to have 0.085 higher rating than a free one. We then perform a hypothesis test to confirm that the result is statistically significant. Let the null hypothesis be that whether an app is free or paid has no effect on its rating. We perform the test using the function `stats.linregress`"
   ]
  },
  {
   "cell_type": "code",
   "execution_count": 11,
   "metadata": {},
   "outputs": [
    {
     "name": "stdout",
     "output_type": "stream",
     "text": [
      "The slope of the binary variable Type is 0.085\n",
      "the p-value for the test result is 0.000\n"
     ]
    }
   ],
   "source": [
    "#reshape the columns for using linregress\n",
    "numpy_type= np.reshape(apps[[\"Type\"]].values,7729)\n",
    "#find a least-squares regression line and its corresponding values\n",
    "slope, intercept, r_value, p_value, std_err = stats.linregress(numpy_type,numpy_ratings)\n",
    "print(\"The slope of the binary variable Type is \"+\"{:.3f}\".format(slope))\n",
    "print(\"the p-value for the test result is \"+\"{:.3f}\".format(p_value))"
   ]
  },
  {
   "cell_type": "markdown",
   "metadata": {},
   "source": [
    "The hypothesis test confirms that the slope is 0.085, and it produces a p-value of 0.00. So, there is a 0.00 chance that results at least as extreme as this occured by chance. Therefore, we reject the null hypothesis, concluding that there is a statistically significant relationship between Type and Rating. "
   ]
  },
  {
   "cell_type": "markdown",
   "metadata": {},
   "source": [
    "We then confirm that both Installs and Type have a positive correlation with ratings by using a multivariable linear regression. "
   ]
  },
  {
   "cell_type": "code",
   "execution_count": 18,
   "metadata": {},
   "outputs": [
    {
     "name": "stdout",
     "output_type": "stream",
     "text": [
      "The slope of installs to rating is 0.036\n",
      "The slope of type to rating is 0.144\n"
     ]
    }
   ],
   "source": [
    "x = apps[['Installs','Type']]\n",
    "y = apps[[\"Rating\"]]\n",
    "model=LinearRegression()\n",
    "model.fit(x,y)\n",
    "slope = model.coef_[0]\n",
    "print(\"The slope of installs to rating is \"+\"{:.3f}\".format(slope[0]))\n",
    "print(\"The slope of type to rating is \"+\"{:.3f}\".format(slope[1]))"
   ]
  },
  {
   "cell_type": "markdown",
   "metadata": {},
   "source": [
    "Not only did both the slopes turn out the be positive, but the absolute values of slopes both increased. This indicates that the multivariable linear regression was able to account for variations that were not accounted for in the previous single variable regression. The new linear model confirms that Installs and Type both have a positive correlation with ratings."
   ]
  },
  {
   "cell_type": "markdown",
   "metadata": {},
   "source": [
    "Next, we examine the variable Reviews. We can reasonably assume that reviews is positively correlated with installs, since more users of an app would lead to more reviews. If the hypothesis holds, then a large part of the correlation between Reviews and Rating could be attributed to the correlation between reviews and installs. Therefore, we test to see this hypothesis is correct. "
   ]
  },
  {
   "cell_type": "code",
   "execution_count": 12,
   "metadata": {},
   "outputs": [
    {
     "name": "stdout",
     "output_type": "stream",
     "text": [
      "The slope of reviews to installs is 0.411\n",
      "The p-value of the result of reviews to installs is 0.000\n"
     ]
    },
    {
     "data": {
      "image/png": "[encoded data removed]",
      "text/plain": [
       "<Figure size 360x360 with 1 Axes>"
      ]
     },
     "metadata": {},
     "output_type": "display_data"
    }
   ],
   "source": [
    "sns.lmplot(x=\"Reviews\", y=\"Installs\",data=apps)\n",
    "numpy_reviews= np.reshape(apps[['Reviews']].values,7729)\n",
    "slope, intercept, r_value, p_value, std_err = stats.linregress(numpy_reviews,numpy_installs)\n",
    "print(\"The slope of reviews to installs is \"+\"{:.3f}\".format(slope))\n",
    "print(\"The p-value of the result of reviews to installs is \"+\"{:.3f}\".format(p_value))"
   ]
  },
  {
   "cell_type": "markdown",
   "metadata": {},
   "source": [
    "As shown on the linear regression plot, there seems to be a positive correlation between reviews and installs. Further analysis using the linear regression model calculates that the slope of Intsalls to Reviews is 0.411, which indicates a positive relationship. This means that for an increase in 1 in the log of reviews, the log of installs increases by 0.411. The p-value of this test is 0.000, which is smaller than 0.05. This means that the likelihood of getting such extreme results with random numbers is 0.000, so the result is statistically significant."
   ]
  },
  {
   "cell_type": "markdown",
   "metadata": {},
   "source": [
    "The positive correlation between reviews and installs verifies our hypothesis. Therefore, if there was a positive correlation between reviews and ratings, it would also be largely attributed to such a relationship. "
   ]
  },
  {
   "cell_type": "code",
   "execution_count": 13,
   "metadata": {},
   "outputs": [
    {
     "name": "stdout",
     "output_type": "stream",
     "text": [
      "The slope of reviews to rating is 0.026\n"
     ]
    }
   ],
   "source": [
    "x = apps[['Reviews']]\n",
    "y = apps[[\"Rating\"]]\n",
    "model=LinearRegression()\n",
    "model.fit(x,y)\n",
    "slope = model.coef_[0][0]\n",
    "print(\"The slope of reviews to rating is \"+\"{:.3f}\".format(slope))"
   ]
  },
  {
   "cell_type": "markdown",
   "metadata": {},
   "source": [
    "We use a linear regression to model the relationship between Reviews and Rating, producing a slope of 0.026, which signals a positive correlation between the two variables. This is inline with our previous hypothesis, which shows that reviews are positively correlated with installs, and therefore rating."
   ]
  },
  {
   "cell_type": "markdown",
   "metadata": {},
   "source": [
    "Next, we use a linear regression model to examine the relationship between Size and Rating. "
   ]
  },
  {
   "cell_type": "code",
   "execution_count": 14,
   "metadata": {
    "scrolled": true
   },
   "outputs": [
    {
     "name": "stdout",
     "output_type": "stream",
     "text": [
      "The slope of size to rating is -0.00011\n",
      "The p_value of size to rating is 0.098\n"
     ]
    }
   ],
   "source": [
    "numpy_size= np.reshape(apps[[\"Size\"]].values,7729)\n",
    "#find a least-squares regression line and its corresponding values\n",
    "slope, intercept, r_value, p_value, std_err = stats.linregress(numpy_size,numpy_ratings)\n",
    "print(\"The slope of size to rating is \"+\"{:.5f}\".format(slope))\n",
    "print(\"The p_value of size to rating is \"+\"{:.3f}\".format(p_value))"
   ]
  },
  {
   "cell_type": "markdown",
   "metadata": {},
   "source": [
    "The linear regression produces a slope of -0.00011 and a p-value of 0.098, which is larger than 0.05. Therefore, the coefficient is small and the p-value is larger than the statistically significant level, which means that there isn't a statistically significant relationship between the two variables. According to this model, the size of an app does not affect its rating. To confirm this conclusion, we run a multi-variable regression to take into account of other variables that do have a statistically significant relationship with Rating."
   ]
  },
  {
   "cell_type": "code",
   "execution_count": 15,
   "metadata": {},
   "outputs": [
    {
     "name": "stdout",
     "output_type": "stream",
     "text": [
      "The slope of size to rating is -0.000\n"
     ]
    }
   ],
   "source": [
    "x = apps[['Size','Installs','Type']]\n",
    "y = apps[[\"Rating\"]]\n",
    "model=LinearRegression()\n",
    "model.fit(x,y)\n",
    "slope = model.coef_[0][0]\n",
    "print(\"The slope of size to rating is \"+\"{:.3f}\".format(slope))"
   ]
  },
  {
   "cell_type": "markdown",
   "metadata": {},
   "source": [
    "The multi-variable regression confirms the hypothesis that there isn't a statistically significant relationship between size and rating."
   ]
  },
  {
   "cell_type": "markdown",
   "metadata": {},
   "source": [
    "## Interpretation of Results\n",
    "<p>First, we interpret the variables that did not yield statistically significant results. For Category, there wasn't a clear distinction of ratings between separate categories, so the variable was not further explored. It is likely that there isn't a statistically significant correlation between the category of an app and its rating.</p>\n",
    "<p>For size, we used a linear regression to show that there isn't a statistically significant relationship between an app's size and rating. Therefore, statistically, the size of an app does not affect its rating. This result is useful for developers who are looking to determine the size of their app. On one hand, people tend to prefer smaller and more light-weight apps, but on the other, apps that are more comprehensive and have more functionalities tend to be larger in size. Our analysis shows that neither of these are clearly preferred over the other amongst users, so the size of an app isn't a significant factor when considering application development.</p>\n",
    "<p>Reviews, on the other hand, is positively correlated to ratings. However, as explained earlier, it can be determined by installs, which also has a positive correlation with ratings. Therefore, the relationship we obverse is more likely due to the fact that apps with more users typically get more reviews, and not that reviews are directly correlated with ratings. </p>\n",
    "<p>For installs, we used a linear regression to show that there is a positive correlation between it and rating. The value of the slope is 0.029, with a significance level of 0.000. We are 100% confident that the relationship is statistically significant. For every increases of 1 in the log of installs, ratings increases by 0.029. This shows that apps with more installs have higher ratings, but does not signal a causation between the two, since both is likely caused by high-quality development by larger companies. However, this does confirms the hypothesis that popular apps are generally of higher quality.</p>\n",
    "<p>A linear regression modelling the correlation between Type and Ratings shows that there is a positive correlation between an app being Paid and it getting a higher rating. The p-value is 0.000, which means the results are statistically siginificant with a 100% confidence level. Therefore, the model shows that on average paid apps are rated 0.085 more than free apps. This gives us insight into the question of whether or not paid apps are of higher quality than free apps, implying that paid apps are of higher quality on average. This information might be useful for developers deciding whether to make their app paid or free, because the results implies that people will pay for higher quality apps. </p>"
   ]
  },
  {
   "cell_type": "markdown",
   "metadata": {},
   "source": [
    "## Limitations\n",
    "1. The data was collected from 2 years ago and may not be accurate for analysis of current apps in the playstore. A new scrape need to be performed in order to obtain data for newer apps. \n",
    "2. The data is not a full collection of all applications in the app store, but only a sample. Variations in collection methods could lead to different samples, and therefore different results. Increasing the sample size would yield more comprehensive and robust results.\n",
    "3. A large part of app ratings is caused by factors that vary from individual apps, such as functionality, design, user-friendliness etc. Although the model will tell us if factors examined are correlated with an app's rating, it does not allow a very accurate prediction of an app's rating."
   ]
  },
  {
   "cell_type": "markdown",
   "metadata": {},
   "source": [
    "### Source code\n",
    "All code related to this project can be found in https://github.com/AmyCui2333/info2950"
   ]
  },
  {
   "cell_type": "markdown",
   "metadata": {},
   "source": [
    "### Acknowledgements\n",
    "1. The raw data file before cleaning was obtained on https://www.kaggle.com/lava18/google-play-store-apps, collected by Lavanya Gupta.\n",
    "2. Method for finding p-value in linear regression was found on https://docs.scipy.org/doc/scipy0.14.0/reference/generated/scipy.stats.linregress.html.\n",
    "3. Checked out https://www.kaggle.com/rutvijrajdeo/eda-of-google-play-store-data for EDA and data cleaning. "
   ]
  },
  {
   "cell_type": "markdown",
   "metadata": {},
   "source": []
  },
  {
   "cell_type": "code",
   "execution_count": null,
   "metadata": {},
   "outputs": [],
   "source": []
  }
 ],
 "metadata": {
  "kernelspec": {
   "display_name": "Python 3",
   "language": "python",
   "name": "python3"
  },
  "language_info": {
   "codemirror_mode": {
    "name": "ipython",
    "version": 3
   },
   "file_extension": ".py",
   "mimetype": "text/x-python",
   "name": "python",
   "nbconvert_exporter": "python",
   "pygments_lexer": "ipython3",
   "version": "3.6.5"
  }
 },
 "nbformat": 4,
 "nbformat_minor": 2
}
